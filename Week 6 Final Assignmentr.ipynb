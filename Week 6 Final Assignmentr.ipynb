{
  "metadata": {
    "language_info": {
      "name": ""
    },
    "kernelspec": {
      "name": "SQLite",
      "display_name": "SQLite",
      "language": "sql"
    }
  },
  "nbformat_minor": 4,
  "nbformat": 4,
  "cells": [
    {
      "cell_type": "code",
      "source": "Week 6 Final Assignment",
      "metadata": {},
      "execution_count": null,
      "outputs": []
    },
    {
      "cell_type": "code",
      "source": "This is a peer graded assignment on Jupyter notebook",
      "metadata": {},
      "execution_count": null,
      "outputs": []
    },
    {
      "cell_type": "code",
      "source": "Data Science Languages\n\nPython\nR\nScala\nJavascript\nJava",
      "metadata": {},
      "execution_count": null,
      "outputs": []
    },
    {
      "cell_type": "code",
      "source": "Data Science libraries\n\nMatplotlib\nTensorflow\nPandas\nSciPy\nScikit-learn",
      "metadata": {},
      "execution_count": null,
      "outputs": []
    },
    {
      "cell_type": "code",
      "source": "Data Science tools\n\nPython\nR\nTableau\nPowerBi\nSQL\n",
      "metadata": {},
      "execution_count": null,
      "outputs": []
    },
    {
      "cell_type": "code",
      "source": "Arithmetic expression examples\n\nAddition\nSubtraction\nMulltiplication\nDivision",
      "metadata": {},
      "execution_count": null,
      "outputs": []
    },
    {
      "cell_type": "code",
      "source": "Multiplying\n\ny=2*2\ny\n\nAdding\n\nx=2+3\nx",
      "metadata": {
        "trusted": true
      },
      "execution_count": null,
      "outputs": []
    },
    {
      "cell_type": "code",
      "source": "Minutes to Hours\n\nh = 240 // 60\n",
      "metadata": {},
      "execution_count": null,
      "outputs": []
    },
    {
      "cell_type": "code",
      "source": "Objectives\n\nWriting python code in Jupyter notebook\nAdding and multiplying in Jupyter notebook\nConverting minutes to hours in Jupyter notebook\n\n",
      "metadata": {},
      "execution_count": null,
      "outputs": []
    }
  ]
}